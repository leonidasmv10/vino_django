{
 "cells": [
  {
   "cell_type": "code",
   "execution_count": 1,
   "metadata": {},
   "outputs": [
    {
     "name": "stderr",
     "output_type": "stream",
     "text": [
      "c:\\Users\\yordy\\anaconda3\\envs\\mi_entorno_django\\Lib\\site-packages\\tqdm\\auto.py:21: TqdmWarning: IProgress not found. Please update jupyter and ipywidgets. See https://ipywidgets.readthedocs.io/en/stable/user_install.html\n",
      "  from .autonotebook import tqdm as notebook_tqdm\n"
     ]
    }
   ],
   "source": [
    "import google.generativeai as genai\n",
    "import os\n",
    "from dotenv import load_dotenv"
   ]
  },
  {
   "cell_type": "code",
   "execution_count": 2,
   "metadata": {},
   "outputs": [],
   "source": [
    "# Load environment variables\n",
    "load_dotenv()\n",
    "API_KEY = os.getenv(\"GEMINI_API_KEY\")\n",
    "\n",
    "genai.configure(api_key=API_KEY)\n",
    "model = genai.GenerativeModel(\"gemini-1.5-flash\")\n",
    "\n",
    "\n",
    "def generate_text(prompt):\n",
    "    \"\"\"Generates text using the Gemini API.\"\"\"\n",
    "    response = model.generate_content(prompt)\n",
    "    return response.text\n"
   ]
  },
  {
   "cell_type": "code",
   "execution_count": 4,
   "metadata": {},
   "outputs": [
    {
     "name": "stdout",
     "output_type": "stream",
     "text": [
      "Gregor Mendel formuló tres leyes de la herencia:\n",
      "\n",
      "**1. Ley de la uniformidad de los híbridos de la primera generación (F1):**  Cuando se cruzan dos individuos de raza pura (homocigotos) que difieren en un solo carácter, todos los individuos de la primera generación filial (F1) son iguales y presentan el fenotipo del progenitor homocigoto dominante.  Es decir, si cruzas un individuo con genotipo AA (dominante) con uno aa (recesivo), todos los hijos (Aa) tendrán el fenotipo del alelo dominante (A).\n",
      "\n",
      "**2. Ley de la segregación:** Los alelos que determinan un carácter se separan (segregan) durante la formación de los gametos, de manera que cada gameto recibe solo uno de los dos alelos.  En la segunda generación filial (F2), obtenida al cruzar individuos de la F1, reaparecen los fenotipos recesivos en una proporción 3:1 (3 dominantes : 1 recesivo).  Esto se debe a la segregación de los alelos durante la meiosis.\n",
      "\n",
      "**3. Ley de la independencia de los caracteres:** Cuando se cruzan individuos que difieren en dos o más caracteres, los alelos de cada carácter se segregan independientemente unos de otros, combinándose al azar en la descendencia.  Esta ley solo se cumple si los genes que determinan esos caracteres se encuentran en cromosomas distintos o muy separados en el mismo cromosoma.  Si los genes están muy próximos, la probabilidad de que se hereden juntos es mayor, y se habla de ligamiento génico.\n",
      "\n",
      "\n",
      "Es importante recordar que estas leyes son simplificaciones de la herencia genética real, que es mucho más compleja y puede verse afectada por factores como la interacción entre genes, la pleiotropía (un gen que afecta múltiples características) y otros fenómenos genéticos.\n",
      "\n"
     ]
    }
   ],
   "source": [
    "print(generate_text(\"Hola, dime la ley de mendel\"))"
   ]
  }
 ],
 "metadata": {
  "kernelspec": {
   "display_name": "mi_entorno_django",
   "language": "python",
   "name": "python3"
  },
  "language_info": {
   "codemirror_mode": {
    "name": "ipython",
    "version": 3
   },
   "file_extension": ".py",
   "mimetype": "text/x-python",
   "name": "python",
   "nbconvert_exporter": "python",
   "pygments_lexer": "ipython3",
   "version": "3.12.9"
  }
 },
 "nbformat": 4,
 "nbformat_minor": 2
}
